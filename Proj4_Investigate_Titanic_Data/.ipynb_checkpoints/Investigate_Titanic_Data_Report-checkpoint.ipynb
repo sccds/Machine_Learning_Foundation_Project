{
 "cells": [
  {
   "cell_type": "markdown",
   "metadata": {},
   "source": [
    "# Investigate Titanic Dataset"
   ]
  },
  {
   "cell_type": "markdown",
   "metadata": {},
   "source": [
    "----\n",
    "\n",
    "Author: Xiao Liu  \n",
    "LastModify: 09/15/2017\n",
    "\n",
    "----"
   ]
  },
  {
   "cell_type": "code",
   "execution_count": 110,
   "metadata": {
    "collapsed": true
   },
   "outputs": [],
   "source": [
    "import numpy as np\n",
    "import pandas as pd\n",
    "import matplotlib.pyplot as plt\n",
    "import seaborn as sns\n",
    "\n",
    "titanic_df = pd.read_csv('titanic-data.csv')\n"
   ]
  },
  {
   "cell_type": "markdown",
   "metadata": {},
   "source": [
    "## 1. Background Story of Titanic\n",
    "\n",
    "RMS Titanic was a British passenger liner that sank in the North Atlantic Ocean in the early morning hours of 15 April 1912, after it collided with an iceberg during its maiden voyage from Southampton to New York City. There were an estimated 2,224 passengers and crew aboard the ship, and more than 1,500 died, making it one of the deadliest commercial peacetime maritime disasters in modern history. The RMS Titanic was the largest ship afloat at the time it entered service and was the second of three Olympic-class ocean liners operated by the White Star Line. The Titanic was built by the Harland and Wolff shipyard in Belfast. Thomas Andrews, her architect, died in the disaster.\n",
    "---- from Wiki: https://en.wikipedia.org/wiki/RMS_Titanic\n",
    "\n",
    "This data comes from part of Titanic passenger data. It includes all informations about passenger. Through analyzing of this sample data, we want to find out **What factors made people more likely to survive**.\n"
   ]
  },
  {
   "cell_type": "markdown",
   "metadata": {},
   "source": [
    "## 2. Dataset at a Glance"
   ]
  },
  {
   "cell_type": "markdown",
   "metadata": {},
   "source": [
    "### 2.1 Dataset Overview\n",
    "\n",
    "**Dataset: ** `titanic-data.csv`  \n",
    "\n",
    "**Number of rows: ** 891  \n",
    "\n",
    "**Number of columns: ** 12  \n",
    "\n",
    "**Data dictionary: **\n",
    "\n",
    "|Variable\t   |Definition\t|Key|\n",
    "|:--:|:---|:--|\n",
    "|survival\t|   Survival\t|0 = No, 1 = Yes|\n",
    "|pclass\t |      Ticket class|\t1 = 1st, 2 = 2nd, 3 = 3rd|\n",
    "|sex\t|Sex\t|  |\n",
    "|Age\t  |      Age in years\t|   |\n",
    "|sibsp\t|# of siblings / spouses aboard the Titanic\t|  |\n",
    "|parch\t|# of parents / children aboard the Titanic\t|  |\n",
    "|ticket\t|Ticket number\t|  |\n",
    "|fare\t|Passenger fare\t|  |\n",
    "|cabin\t|Cabin number\t|  |\n",
    "|embarked|\tPort of Embarkation\t|C = Cherbourg, Q = Queenstown, S = Southampton|\n"
   ]
  },
  {
   "cell_type": "code",
   "execution_count": 111,
   "metadata": {},
   "outputs": [
    {
     "data": {
      "text/html": [
       "<div>\n",
       "<style>\n",
       "    .dataframe thead tr:only-child th {\n",
       "        text-align: right;\n",
       "    }\n",
       "\n",
       "    .dataframe thead th {\n",
       "        text-align: left;\n",
       "    }\n",
       "\n",
       "    .dataframe tbody tr th {\n",
       "        vertical-align: top;\n",
       "    }\n",
       "</style>\n",
       "<table border=\"1\" class=\"dataframe\">\n",
       "  <thead>\n",
       "    <tr style=\"text-align: right;\">\n",
       "      <th></th>\n",
       "      <th>PassengerId</th>\n",
       "      <th>Survived</th>\n",
       "      <th>Pclass</th>\n",
       "      <th>Name</th>\n",
       "      <th>Sex</th>\n",
       "      <th>Age</th>\n",
       "      <th>SibSp</th>\n",
       "      <th>Parch</th>\n",
       "      <th>Ticket</th>\n",
       "      <th>Fare</th>\n",
       "      <th>Cabin</th>\n",
       "      <th>Embarked</th>\n",
       "    </tr>\n",
       "  </thead>\n",
       "  <tbody>\n",
       "    <tr>\n",
       "      <th>0</th>\n",
       "      <td>1</td>\n",
       "      <td>0</td>\n",
       "      <td>3</td>\n",
       "      <td>Braund, Mr. Owen Harris</td>\n",
       "      <td>male</td>\n",
       "      <td>22.0</td>\n",
       "      <td>1</td>\n",
       "      <td>0</td>\n",
       "      <td>A/5 21171</td>\n",
       "      <td>7.2500</td>\n",
       "      <td>NaN</td>\n",
       "      <td>S</td>\n",
       "    </tr>\n",
       "    <tr>\n",
       "      <th>1</th>\n",
       "      <td>2</td>\n",
       "      <td>1</td>\n",
       "      <td>1</td>\n",
       "      <td>Cumings, Mrs. John Bradley (Florence Briggs Th...</td>\n",
       "      <td>female</td>\n",
       "      <td>38.0</td>\n",
       "      <td>1</td>\n",
       "      <td>0</td>\n",
       "      <td>PC 17599</td>\n",
       "      <td>71.2833</td>\n",
       "      <td>C85</td>\n",
       "      <td>C</td>\n",
       "    </tr>\n",
       "    <tr>\n",
       "      <th>2</th>\n",
       "      <td>3</td>\n",
       "      <td>1</td>\n",
       "      <td>3</td>\n",
       "      <td>Heikkinen, Miss. Laina</td>\n",
       "      <td>female</td>\n",
       "      <td>26.0</td>\n",
       "      <td>0</td>\n",
       "      <td>0</td>\n",
       "      <td>STON/O2. 3101282</td>\n",
       "      <td>7.9250</td>\n",
       "      <td>NaN</td>\n",
       "      <td>S</td>\n",
       "    </tr>\n",
       "    <tr>\n",
       "      <th>3</th>\n",
       "      <td>4</td>\n",
       "      <td>1</td>\n",
       "      <td>1</td>\n",
       "      <td>Futrelle, Mrs. Jacques Heath (Lily May Peel)</td>\n",
       "      <td>female</td>\n",
       "      <td>35.0</td>\n",
       "      <td>1</td>\n",
       "      <td>0</td>\n",
       "      <td>113803</td>\n",
       "      <td>53.1000</td>\n",
       "      <td>C123</td>\n",
       "      <td>S</td>\n",
       "    </tr>\n",
       "    <tr>\n",
       "      <th>4</th>\n",
       "      <td>5</td>\n",
       "      <td>0</td>\n",
       "      <td>3</td>\n",
       "      <td>Allen, Mr. William Henry</td>\n",
       "      <td>male</td>\n",
       "      <td>35.0</td>\n",
       "      <td>0</td>\n",
       "      <td>0</td>\n",
       "      <td>373450</td>\n",
       "      <td>8.0500</td>\n",
       "      <td>NaN</td>\n",
       "      <td>S</td>\n",
       "    </tr>\n",
       "    <tr>\n",
       "      <th>5</th>\n",
       "      <td>6</td>\n",
       "      <td>0</td>\n",
       "      <td>3</td>\n",
       "      <td>Moran, Mr. James</td>\n",
       "      <td>male</td>\n",
       "      <td>NaN</td>\n",
       "      <td>0</td>\n",
       "      <td>0</td>\n",
       "      <td>330877</td>\n",
       "      <td>8.4583</td>\n",
       "      <td>NaN</td>\n",
       "      <td>Q</td>\n",
       "    </tr>\n",
       "    <tr>\n",
       "      <th>6</th>\n",
       "      <td>7</td>\n",
       "      <td>0</td>\n",
       "      <td>1</td>\n",
       "      <td>McCarthy, Mr. Timothy J</td>\n",
       "      <td>male</td>\n",
       "      <td>54.0</td>\n",
       "      <td>0</td>\n",
       "      <td>0</td>\n",
       "      <td>17463</td>\n",
       "      <td>51.8625</td>\n",
       "      <td>E46</td>\n",
       "      <td>S</td>\n",
       "    </tr>\n",
       "    <tr>\n",
       "      <th>7</th>\n",
       "      <td>8</td>\n",
       "      <td>0</td>\n",
       "      <td>3</td>\n",
       "      <td>Palsson, Master. Gosta Leonard</td>\n",
       "      <td>male</td>\n",
       "      <td>2.0</td>\n",
       "      <td>3</td>\n",
       "      <td>1</td>\n",
       "      <td>349909</td>\n",
       "      <td>21.0750</td>\n",
       "      <td>NaN</td>\n",
       "      <td>S</td>\n",
       "    </tr>\n",
       "    <tr>\n",
       "      <th>8</th>\n",
       "      <td>9</td>\n",
       "      <td>1</td>\n",
       "      <td>3</td>\n",
       "      <td>Johnson, Mrs. Oscar W (Elisabeth Vilhelmina Berg)</td>\n",
       "      <td>female</td>\n",
       "      <td>27.0</td>\n",
       "      <td>0</td>\n",
       "      <td>2</td>\n",
       "      <td>347742</td>\n",
       "      <td>11.1333</td>\n",
       "      <td>NaN</td>\n",
       "      <td>S</td>\n",
       "    </tr>\n",
       "    <tr>\n",
       "      <th>9</th>\n",
       "      <td>10</td>\n",
       "      <td>1</td>\n",
       "      <td>2</td>\n",
       "      <td>Nasser, Mrs. Nicholas (Adele Achem)</td>\n",
       "      <td>female</td>\n",
       "      <td>14.0</td>\n",
       "      <td>1</td>\n",
       "      <td>0</td>\n",
       "      <td>237736</td>\n",
       "      <td>30.0708</td>\n",
       "      <td>NaN</td>\n",
       "      <td>C</td>\n",
       "    </tr>\n",
       "  </tbody>\n",
       "</table>\n",
       "</div>"
      ],
      "text/plain": [
       "   PassengerId  Survived  Pclass  \\\n",
       "0            1         0       3   \n",
       "1            2         1       1   \n",
       "2            3         1       3   \n",
       "3            4         1       1   \n",
       "4            5         0       3   \n",
       "5            6         0       3   \n",
       "6            7         0       1   \n",
       "7            8         0       3   \n",
       "8            9         1       3   \n",
       "9           10         1       2   \n",
       "\n",
       "                                                Name     Sex   Age  SibSp  \\\n",
       "0                            Braund, Mr. Owen Harris    male  22.0      1   \n",
       "1  Cumings, Mrs. John Bradley (Florence Briggs Th...  female  38.0      1   \n",
       "2                             Heikkinen, Miss. Laina  female  26.0      0   \n",
       "3       Futrelle, Mrs. Jacques Heath (Lily May Peel)  female  35.0      1   \n",
       "4                           Allen, Mr. William Henry    male  35.0      0   \n",
       "5                                   Moran, Mr. James    male   NaN      0   \n",
       "6                            McCarthy, Mr. Timothy J    male  54.0      0   \n",
       "7                     Palsson, Master. Gosta Leonard    male   2.0      3   \n",
       "8  Johnson, Mrs. Oscar W (Elisabeth Vilhelmina Berg)  female  27.0      0   \n",
       "9                Nasser, Mrs. Nicholas (Adele Achem)  female  14.0      1   \n",
       "\n",
       "   Parch            Ticket     Fare Cabin Embarked  \n",
       "0      0         A/5 21171   7.2500   NaN        S  \n",
       "1      0          PC 17599  71.2833   C85        C  \n",
       "2      0  STON/O2. 3101282   7.9250   NaN        S  \n",
       "3      0            113803  53.1000  C123        S  \n",
       "4      0            373450   8.0500   NaN        S  \n",
       "5      0            330877   8.4583   NaN        Q  \n",
       "6      0             17463  51.8625   E46        S  \n",
       "7      1            349909  21.0750   NaN        S  \n",
       "8      2            347742  11.1333   NaN        S  \n",
       "9      0            237736  30.0708   NaN        C  "
      ]
     },
     "execution_count": 111,
     "metadata": {},
     "output_type": "execute_result"
    }
   ],
   "source": [
    "titanic_df.head(10)"
   ]
  },
  {
   "cell_type": "code",
   "execution_count": 112,
   "metadata": {},
   "outputs": [
    {
     "name": "stdout",
     "output_type": "stream",
     "text": [
      "<class 'pandas.core.frame.DataFrame'>\n",
      "RangeIndex: 891 entries, 0 to 890\n",
      "Data columns (total 12 columns):\n",
      "PassengerId    891 non-null int64\n",
      "Survived       891 non-null int64\n",
      "Pclass         891 non-null int64\n",
      "Name           891 non-null object\n",
      "Sex            891 non-null object\n",
      "Age            714 non-null float64\n",
      "SibSp          891 non-null int64\n",
      "Parch          891 non-null int64\n",
      "Ticket         891 non-null object\n",
      "Fare           891 non-null float64\n",
      "Cabin          204 non-null object\n",
      "Embarked       889 non-null object\n",
      "dtypes: float64(2), int64(5), object(5)\n",
      "memory usage: 83.6+ KB\n"
     ]
    }
   ],
   "source": [
    "titanic_df.info()"
   ]
  },
  {
   "cell_type": "code",
   "execution_count": 113,
   "metadata": {},
   "outputs": [
    {
     "data": {
      "text/html": [
       "<div>\n",
       "<style>\n",
       "    .dataframe thead tr:only-child th {\n",
       "        text-align: right;\n",
       "    }\n",
       "\n",
       "    .dataframe thead th {\n",
       "        text-align: left;\n",
       "    }\n",
       "\n",
       "    .dataframe tbody tr th {\n",
       "        vertical-align: top;\n",
       "    }\n",
       "</style>\n",
       "<table border=\"1\" class=\"dataframe\">\n",
       "  <thead>\n",
       "    <tr style=\"text-align: right;\">\n",
       "      <th></th>\n",
       "      <th>PassengerId</th>\n",
       "      <th>Survived</th>\n",
       "      <th>Pclass</th>\n",
       "      <th>Age</th>\n",
       "      <th>SibSp</th>\n",
       "      <th>Parch</th>\n",
       "      <th>Fare</th>\n",
       "    </tr>\n",
       "  </thead>\n",
       "  <tbody>\n",
       "    <tr>\n",
       "      <th>count</th>\n",
       "      <td>891.000000</td>\n",
       "      <td>891.000000</td>\n",
       "      <td>891.000000</td>\n",
       "      <td>714.000000</td>\n",
       "      <td>891.000000</td>\n",
       "      <td>891.000000</td>\n",
       "      <td>891.000000</td>\n",
       "    </tr>\n",
       "    <tr>\n",
       "      <th>mean</th>\n",
       "      <td>446.000000</td>\n",
       "      <td>0.383838</td>\n",
       "      <td>2.308642</td>\n",
       "      <td>29.699118</td>\n",
       "      <td>0.523008</td>\n",
       "      <td>0.381594</td>\n",
       "      <td>32.204208</td>\n",
       "    </tr>\n",
       "    <tr>\n",
       "      <th>std</th>\n",
       "      <td>257.353842</td>\n",
       "      <td>0.486592</td>\n",
       "      <td>0.836071</td>\n",
       "      <td>14.526497</td>\n",
       "      <td>1.102743</td>\n",
       "      <td>0.806057</td>\n",
       "      <td>49.693429</td>\n",
       "    </tr>\n",
       "    <tr>\n",
       "      <th>min</th>\n",
       "      <td>1.000000</td>\n",
       "      <td>0.000000</td>\n",
       "      <td>1.000000</td>\n",
       "      <td>0.420000</td>\n",
       "      <td>0.000000</td>\n",
       "      <td>0.000000</td>\n",
       "      <td>0.000000</td>\n",
       "    </tr>\n",
       "    <tr>\n",
       "      <th>25%</th>\n",
       "      <td>223.500000</td>\n",
       "      <td>0.000000</td>\n",
       "      <td>2.000000</td>\n",
       "      <td>20.125000</td>\n",
       "      <td>0.000000</td>\n",
       "      <td>0.000000</td>\n",
       "      <td>7.910400</td>\n",
       "    </tr>\n",
       "    <tr>\n",
       "      <th>50%</th>\n",
       "      <td>446.000000</td>\n",
       "      <td>0.000000</td>\n",
       "      <td>3.000000</td>\n",
       "      <td>28.000000</td>\n",
       "      <td>0.000000</td>\n",
       "      <td>0.000000</td>\n",
       "      <td>14.454200</td>\n",
       "    </tr>\n",
       "    <tr>\n",
       "      <th>75%</th>\n",
       "      <td>668.500000</td>\n",
       "      <td>1.000000</td>\n",
       "      <td>3.000000</td>\n",
       "      <td>38.000000</td>\n",
       "      <td>1.000000</td>\n",
       "      <td>0.000000</td>\n",
       "      <td>31.000000</td>\n",
       "    </tr>\n",
       "    <tr>\n",
       "      <th>max</th>\n",
       "      <td>891.000000</td>\n",
       "      <td>1.000000</td>\n",
       "      <td>3.000000</td>\n",
       "      <td>80.000000</td>\n",
       "      <td>8.000000</td>\n",
       "      <td>6.000000</td>\n",
       "      <td>512.329200</td>\n",
       "    </tr>\n",
       "  </tbody>\n",
       "</table>\n",
       "</div>"
      ],
      "text/plain": [
       "       PassengerId    Survived      Pclass         Age       SibSp  \\\n",
       "count   891.000000  891.000000  891.000000  714.000000  891.000000   \n",
       "mean    446.000000    0.383838    2.308642   29.699118    0.523008   \n",
       "std     257.353842    0.486592    0.836071   14.526497    1.102743   \n",
       "min       1.000000    0.000000    1.000000    0.420000    0.000000   \n",
       "25%     223.500000    0.000000    2.000000   20.125000    0.000000   \n",
       "50%     446.000000    0.000000    3.000000   28.000000    0.000000   \n",
       "75%     668.500000    1.000000    3.000000   38.000000    1.000000   \n",
       "max     891.000000    1.000000    3.000000   80.000000    8.000000   \n",
       "\n",
       "            Parch        Fare  \n",
       "count  891.000000  891.000000  \n",
       "mean     0.381594   32.204208  \n",
       "std      0.806057   49.693429  \n",
       "min      0.000000    0.000000  \n",
       "25%      0.000000    7.910400  \n",
       "50%      0.000000   14.454200  \n",
       "75%      0.000000   31.000000  \n",
       "max      6.000000  512.329200  "
      ]
     },
     "execution_count": 113,
     "metadata": {},
     "output_type": "execute_result"
    }
   ],
   "source": [
    "titanic_df.describe()"
   ]
  },
  {
   "cell_type": "code",
   "execution_count": 114,
   "metadata": {},
   "outputs": [
    {
     "name": "stdout",
     "output_type": "stream",
     "text": [
      "Total number of people in Titanic:  891\n"
     ]
    }
   ],
   "source": [
    "print \"Total number of people in Titanic: \", len(titanic_df)"
   ]
  },
  {
   "cell_type": "markdown",
   "metadata": {},
   "source": [
    "### 2.2 Clean the Data"
   ]
  },
  {
   "cell_type": "code",
   "execution_count": 115,
   "metadata": {},
   "outputs": [
    {
     "data": {
      "text/plain": [
       "PassengerId      0\n",
       "Survived         0\n",
       "Pclass           0\n",
       "Name             0\n",
       "Sex              0\n",
       "Age            177\n",
       "SibSp            0\n",
       "Parch            0\n",
       "Ticket           0\n",
       "Fare             0\n",
       "Cabin          687\n",
       "Embarked         2\n",
       "dtype: int64"
      ]
     },
     "execution_count": 115,
     "metadata": {},
     "output_type": "execute_result"
    }
   ],
   "source": [
    "titanic_df.isnull().sum()"
   ]
  },
  {
   "cell_type": "markdown",
   "metadata": {},
   "source": [
    "Through the above result, we find that `Age`, `Cabin` and `Embarked` columns include `NaN`.\n",
    "\n",
    "For `Cabin` column, there are too many missing values. In my opinion, this value is important to analyze passenger site of activity. This cabin location related to Titanic accident timeline. To use this data, we need more data out of this column. We will not use this column in this analysis. Therefore, we can keep it missing.\n",
    "\n",
    "For `Embarked` column, we do use this data for some analysis. Missing 2 out of 891 data has trivial effect on the result. We can keep it missing.\n",
    "\n",
    "`Age` will be an import column in the following data analysis. 177 out of 891 `Age` data are missing. For this age data, we assume that missing values are distributed similarly to the values that are present. In this case, we will  substitute values that represent the existing distribution, such as the mean."
   ]
  },
  {
   "cell_type": "code",
   "execution_count": 116,
   "metadata": {},
   "outputs": [
    {
     "name": "stdout",
     "output_type": "stream",
     "text": [
      "\n"
     ]
    }
   ],
   "source": [
    "titanic_df.Age.replace(np.NaN, titanic_df.Age.mean().round(), inplace=True)\n",
    "print"
   ]
  },
  {
   "cell_type": "code",
   "execution_count": 117,
   "metadata": {},
   "outputs": [
    {
     "data": {
      "text/plain": [
       "PassengerId      0\n",
       "Survived         0\n",
       "Pclass           0\n",
       "Name             0\n",
       "Sex              0\n",
       "Age              0\n",
       "SibSp            0\n",
       "Parch            0\n",
       "Ticket           0\n",
       "Fare             0\n",
       "Cabin          687\n",
       "Embarked         2\n",
       "dtype: int64"
      ]
     },
     "execution_count": 117,
     "metadata": {},
     "output_type": "execute_result"
    }
   ],
   "source": [
    "titanic_df.isnull().sum()"
   ]
  },
  {
   "cell_type": "markdown",
   "metadata": {},
   "source": [
    "### 2.3 Data Exploration"
   ]
  },
  {
   "cell_type": "markdown",
   "metadata": {},
   "source": [
    "#### 2.3.1 Explore the Survival -- Survival Proportion\n",
    "\n",
    "We can know the proportion of survival and lost."
   ]
  },
  {
   "cell_type": "code",
   "execution_count": 118,
   "metadata": {},
   "outputs": [
    {
     "name": "stdout",
     "output_type": "stream",
     "text": [
      "Number of survived:\t342\n",
      "Number of lost:\t\t549\n"
     ]
    },
    {
     "data": {
      "image/png": "[encoded data removed]",
      "text/plain": [
       "<matplotlib.figure.Figure at 0x10f585610>"
      ]
     },
     "metadata": {},
     "output_type": "display_data"
    }
   ],
   "source": [
    "num_survived = len(titanic_df[titanic_df.Survived == 1])\n",
    "num_lost = len(titanic_df[titanic_df.Survived == 0])\n",
    "\n",
    "print \"Number of survived:\\t\", num_survived\n",
    "print \"Number of lost:\\t\\t\", num_lost\n",
    "\n",
    "plt.title('Survived vs. Lost Proportion')\n",
    "plt.pie([num_survived, num_lost], labels=[\"survived\", \"lost\"], autopct='%1.2f%%')\n",
    "plt.show()"
   ]
  },
  {
   "cell_type": "markdown",
   "metadata": {},
   "source": [
    "#### 2.3.2 Explore the Gender -- Gender Proportion\n",
    "\n",
    "We want to explore the proportion of gender. Gender may be related to the survival rate in the following studies."
   ]
  },
  {
   "cell_type": "code",
   "execution_count": 119,
   "metadata": {},
   "outputs": [
    {
     "name": "stdout",
     "output_type": "stream",
     "text": [
      "Number of males:\t577\n",
      "Number of famales:\t314\n"
     ]
    },
    {
     "data": {
      "image/png": "[encoded data removed]",
      "text/plain": [
       "<matplotlib.figure.Figure at 0x10f86e110>"
      ]
     },
     "metadata": {},
     "output_type": "display_data"
    }
   ],
   "source": [
    "num_male = len(titanic_df[titanic_df.Sex == \"male\"])\n",
    "num_female = len(titanic_df[titanic_df.Sex == \"female\"])\n",
    "\n",
    "print \"Number of males:\\t\", num_male\n",
    "print \"Number of famales:\\t\", num_female\n",
    "\n",
    "plt.title('Males vs. Females - Proportion')\n",
    "plt.pie([num_male, num_female], labels=[\"M\", \"F\"], autopct='%1.2f%%')\n",
    "plt.show()"
   ]
  },
  {
   "cell_type": "markdown",
   "metadata": {},
   "source": [
    "There are about twice males as females. \n",
    "From this result, we find one thing interesting: the proportion of survived and lost is very similar of female and male. We will find is there any correlation between gender and survival rate."
   ]
  },
  {
   "cell_type": "markdown",
   "metadata": {},
   "source": [
    "#### 2.3.3 Explore the Gender and Survival"
   ]
  },
  {
   "cell_type": "code",
   "execution_count": 120,
   "metadata": {},
   "outputs": [
    {
     "data": {
      "image/png": "[encoded data removed]",
      "text/plain": [
       "<matplotlib.figure.Figure at 0x10f43a450>"
      ]
     },
     "metadata": {},
     "output_type": "display_data"
    }
   ],
   "source": [
    "plt.title('Titanic Survived Males vs. Female')\n",
    "sns.barplot(x=titanic_df.Sex, y=titanic_df.Survived)\n",
    "plt.show()"
   ]
  },
  {
   "cell_type": "markdown",
   "metadata": {},
   "source": [
    "From this figure, we can know that women has much higher survival rate than men."
   ]
  },
  {
   "cell_type": "markdown",
   "metadata": {},
   "source": [
    "#### 2.3.4 Explore the Age -- Age Proportion"
   ]
  },
  {
   "cell_type": "code",
   "execution_count": 121,
   "metadata": {},
   "outputs": [
    {
     "name": "stdout",
     "output_type": "stream",
     "text": [
      "Number of people age 0 ~ 6:\t\t47\n",
      "Number of people age 7 ~ 17:\t\t66\n",
      "Number of people age 19 ~ 40:\t\t630\n",
      "Number of people age 41 ~ 60:\t\t140\n",
      "Number of people age 61+:\t\t8\n"
     ]
    },
    {
     "data": {
      "image/png": "[encoded data removed]",
      "text/plain": [
       "<matplotlib.figure.Figure at 0x10e30b710>"
      ]
     },
     "metadata": {},
     "output_type": "display_data"
    }
   ],
   "source": [
    "age_0_6 = len(titanic_df[(titanic_df.Age >= 0) & (titanic_df.Age < 7)])\n",
    "age_7_17 = len(titanic_df[(titanic_df.Age >= 7) & (titanic_df.Age < 18)])\n",
    "age_18_40 = len(titanic_df[(titanic_df.Age >= 18) & (titanic_df.Age < 41)])\n",
    "age_41_65 = len(titanic_df[(titanic_df.Age >= 41) & (titanic_df.Age < 66)])\n",
    "age_66 = len(titanic_df[(titanic_df.Age >= 66)])\n",
    "\n",
    "print \"Number of people age 0 ~ 6:\\t\\t\", age_0_6\n",
    "print \"Number of people age 7 ~ 17:\\t\\t\", age_7_17\n",
    "print \"Number of people age 19 ~ 40:\\t\\t\", age_18_40\n",
    "print \"Number of people age 41 ~ 60:\\t\\t\", age_41_65\n",
    "print \"Number of people age 61+:\\t\\t\", age_66\n",
    "\n",
    "plt.title('Titanic passager Age Proportion')\n",
    "plt.pie([age_0_6, age_7_17, age_18_40, age_41_65, age_66], labels=[\"0~6\", \"7~17\", \"18~40\", \"41-65\", \"66+\"], autopct='%1.2f%%')\n",
    "plt.show()\n"
   ]
  },
  {
   "cell_type": "markdown",
   "metadata": {},
   "source": [
    "#### 2.3.5 Explore the Age -- Age Distribution"
   ]
  },
  {
   "cell_type": "code",
   "execution_count": 122,
   "metadata": {},
   "outputs": [
    {
     "data": {
      "image/png": "[encoded data removed]",
      "text/plain": [
       "<matplotlib.figure.Figure at 0x10f85c690>"
      ]
     },
     "metadata": {},
     "output_type": "display_data"
    }
   ],
   "source": [
    "plt.title('Titanic Passager Age Distribution')\n",
    "titanic_df[\"Age\"].hist()\n",
    "plt.show()"
   ]
  },
  {
   "cell_type": "markdown",
   "metadata": {},
   "source": [
    "From the age proportion and distribution, we know that most of Titanic onboard people are in range 20 ~ 40"
   ]
  },
  {
   "cell_type": "markdown",
   "metadata": {},
   "source": [
    "#### 2.3.6 Explore the Age and Survival"
   ]
  },
  {
   "cell_type": "code",
   "execution_count": 123,
   "metadata": {},
   "outputs": [
    {
     "data": {
      "image/png": "[encoded data removed]",
      "text/plain": [
       "<matplotlib.figure.Figure at 0x10f547310>"
      ]
     },
     "metadata": {},
     "output_type": "display_data"
    }
   ],
   "source": [
    "plt.title('Titanic Survivaled Passager Age Distribution')\n",
    "titanic_df[titanic_df.Survived==1][\"Age\"].hist()\n",
    "plt.show()"
   ]
  },
  {
   "cell_type": "code",
   "execution_count": 124,
   "metadata": {},
   "outputs": [
    {
     "data": {
      "image/png": "[encoded data removed]",
      "text/plain": [
       "<matplotlib.figure.Figure at 0x10f27b7d0>"
      ]
     },
     "metadata": {},
     "output_type": "display_data"
    }
   ],
   "source": [
    "plt.title('Titanic Lost Passager Age Distribution')\n",
    "titanic_df[titanic_df.Survived==0][\"Age\"].hist()\n",
    "plt.show()"
   ]
  },
  {
   "cell_type": "markdown",
   "metadata": {},
   "source": [
    "From the above two histogram plots, we can know that:\n",
    "    1. Most of the children survived\n",
    "    2. There are still many adaults survived, we cannot tell difference from this exploration"
   ]
  },
  {
   "cell_type": "markdown",
   "metadata": {},
   "source": [
    "#### 2.3.7 Explore the Embarkation"
   ]
  },
  {
   "cell_type": "code",
   "execution_count": 125,
   "metadata": {},
   "outputs": [
    {
     "name": "stdout",
     "output_type": "stream",
     "text": [
      "Number of embarked Cherbourg:\t168\n",
      "Number of embarked Queenstown:\t77\n",
      "Number of embarked Southampton:\t644\n"
     ]
    },
    {
     "data": {
      "image/png": "[encoded data removed]",
      "text/plain": [
       "<matplotlib.figure.Figure at 0x10f3bb950>"
      ]
     },
     "metadata": {},
     "output_type": "display_data"
    }
   ],
   "source": [
    "# C = Cherbourg, Q = Queenstown, S = Southampton\n",
    "\n",
    "num_embarked_C = len(titanic_df[titanic_df.Embarked == \"C\"])\n",
    "num_embarked_Q = len(titanic_df[titanic_df.Embarked == \"Q\"])\n",
    "num_embarked_S = len(titanic_df[titanic_df.Embarked == \"S\"])\n",
    "\n",
    "print \"Number of embarked Cherbourg:\\t\", num_embarked_C\n",
    "print \"Number of embarked Queenstown:\\t\", num_embarked_Q\n",
    "print \"Number of embarked Southampton:\\t\", num_embarked_S\n",
    "\n",
    "\n",
    "plt.title('Embarkation Proportion')\n",
    "plt.pie([num_embarked_C, num_embarked_Q, num_embarked_S], labels=[\"Cherbourg\", \"Queenstown\", \"Southampton\"], autopct='%1.2f%%')\n",
    "plt.show()"
   ]
  },
  {
   "cell_type": "code",
   "execution_count": 126,
   "metadata": {},
   "outputs": [
    {
     "data": {
      "image/png": "[encoded data removed]",
      "text/plain": [
       "<matplotlib.figure.Figure at 0x10f9cf890>"
      ]
     },
     "metadata": {},
     "output_type": "display_data"
    }
   ],
   "source": [
    "plt.title(\"Embarkation and Survival\")\n",
    "sns.barplot(x=titanic_df[\"Embarked\"], y=titanic_df[\"Survived\"])\n",
    "plt.show()"
   ]
  },
  {
   "cell_type": "markdown",
   "metadata": {},
   "source": [
    "Embarkation has no effect on survival."
   ]
  },
  {
   "cell_type": "markdown",
   "metadata": {},
   "source": [
    "#### 2.3.8 Explore the Parch and Sibsp"
   ]
  },
  {
   "cell_type": "code",
   "execution_count": 127,
   "metadata": {},
   "outputs": [
    {
     "data": {
      "image/png": "[encoded data removed]",
      "text/plain": [
       "<matplotlib.figure.Figure at 0x10ed99a90>"
      ]
     },
     "metadata": {},
     "output_type": "display_data"
    }
   ],
   "source": [
    "plt.title(\"Sibsp and Survival\")\n",
    "sns.barplot(x=titanic_df[\"SibSp\"], y=titanic_df[\"Survived\"])\n",
    "plt.show()"
   ]
  },
  {
   "cell_type": "code",
   "execution_count": 128,
   "metadata": {},
   "outputs": [
    {
     "data": {
      "image/png": "[encoded data removed]",
      "text/plain": [
       "<matplotlib.figure.Figure at 0x10f9c0050>"
      ]
     },
     "metadata": {},
     "output_type": "display_data"
    }
   ],
   "source": [
    "plt.title(\"Parch and Survival\")\n",
    "sns.barplot(x=titanic_df[\"Parch\"], y=titanic_df[\"Survived\"])\n",
    "plt.show()"
   ]
  },
  {
   "cell_type": "markdown",
   "metadata": {},
   "source": [
    "Acocrding to the figure, obviously, `SibSp` survival rate are closed to `women`, and `Parch` survival rate are closed to `children`"
   ]
  },
  {
   "cell_type": "markdown",
   "metadata": {},
   "source": [
    "## 3. Data Analysis\n",
    "\n",
    "According to Titanic related movies, we know that when the collision happens, children and women has higher priority to get into lifeboat. Therefore, children and women may have higher survival rates.\n",
    "\n",
    "As a common sense, rich people may be available to pay more money to earn a ticket of lifeboat. Can rich man get more survive opportunities? It becomes an interesting question.\n",
    "\n",
    "Old people may have higher priority to lifeboat, but they may not strong enought to defence the cold weather. \n",
    "\n",
    "Let's investigate the data and find something interesting."
   ]
  },
  {
   "cell_type": "code",
   "execution_count": 129,
   "metadata": {
    "collapsed": true
   },
   "outputs": [],
   "source": [
    "def selector_age(df, age):\n",
    "    return df[(df.Age >= age[0]) & (df.Age < age[1])]\n",
    "\n",
    "\n",
    "def selector_gender(df, gender):\n",
    "    if gender == \"all\":\n",
    "        return df\n",
    "    return df[df.Sex == \"male\"] if gender == \"M\" else df[df.Sex == \"female\"]\n",
    "\n",
    "\n",
    "def selector_class(df, pclass):\n",
    "    if pclass == 1:\n",
    "        return df[df.Pclass == 1]\n",
    "    elif pclass == 2:\n",
    "        return df[df.Pclass == 2]\n",
    "    else:\n",
    "        return df[df.Pclass == 3]\n",
    "    \n",
    "    \n",
    "def selector_survival(df, survival):\n",
    "    return df[df.Survived == 1] if survival == 1 else df[df.Survived == 0]\n",
    "\n",
    "\n",
    "def selector_customize(df, gender, pclass, survival, age=(0, 200)):\n",
    "    return selector_survival(selector_class(selector_gender(selector_age(df, age), gender), pclass), survival)\n"
   ]
  },
  {
   "cell_type": "code",
   "execution_count": 130,
   "metadata": {
    "collapsed": true
   },
   "outputs": [],
   "source": [
    "\n",
    "children_c1_survival = selector_customize(titanic_df, age=(0, 18), gender=\"all\", pclass=1, survival=1)\n",
    "children_c1_lost = selector_customize(titanic_df, age=(0, 18), gender=\"all\", pclass=1, survival=0)\n",
    "children_c2_survival = selector_customize(titanic_df, age=(0, 18), gender=\"all\", pclass=2, survival=1)\n",
    "children_c2_lost = selector_customize(titanic_df, age=(0, 18), gender=\"all\", pclass=2, survival=0)\n",
    "children_c3_survival = selector_customize(titanic_df, age=(0, 18), gender=\"all\", pclass=3, survival=1)\n",
    "children_c3_lost = selector_customize(titanic_df, age=(0, 18), gender=\"all\", pclass=3, survival=0)\n",
    "\n",
    "men_c1_survival = selector_customize(titanic_df, age=(18, 200), gender=\"M\", pclass=1, survival=1)\n",
    "men_c1_lost = selector_customize(titanic_df, age=(18, 200), gender=\"M\", pclass=1, survival=0)\n",
    "men_c2_survival = selector_customize(titanic_df, age=(18, 200), gender=\"M\", pclass=2, survival=1)\n",
    "men_c2_lost = selector_customize(titanic_df, age=(18, 200), gender=\"M\", pclass=2, survival=0)\n",
    "men_c3_survival = selector_customize(titanic_df, age=(18, 200), gender=\"M\", pclass=3, survival=1)\n",
    "men_c3_lost = selector_customize(titanic_df, age=(18, 200), gender=\"M\", pclass=3, survival=0)\n",
    "\n",
    "women_c1_survival = selector_customize(titanic_df, age=(18, 200), gender=\"F\", pclass=1, survival=1)\n",
    "women_c1_lost = selector_customize(titanic_df, age=(18, 200), gender=\"F\", pclass=1, survival=0)\n",
    "women_c2_survival = selector_customize(titanic_df, age=(18, 200), gender=\"F\", pclass=2, survival=1)\n",
    "women_c2_lost = selector_customize(titanic_df, age=(18, 200), gender=\"F\", pclass=2, survival=0)\n",
    "women_c3_survival = selector_customize(titanic_df, age=(18, 200), gender=\"F\", pclass=3, survival=1)\n",
    "women_c3_lost = selector_customize(titanic_df, age=(18, 200), gender=\"F\", pclass=3, survival=0)\n",
    "\n",
    "old_c1_survival = selector_customize(titanic_df, age=(65, 200), gender=\"all\", pclass=1, survival=1)\n",
    "old_c1_lost = selector_customize(titanic_df, age=(65, 200), gender=\"all\", pclass=1, survival=0)\n",
    "old_c2_survival = selector_customize(titanic_df, age=(65, 200), gender=\"all\", pclass=2, survival=1)\n",
    "old_c2_lost = selector_customize(titanic_df, age=(65, 200), gender=\"all\", pclass=2, survival=0)\n",
    "old_c3_survival = selector_customize(titanic_df, age=(65, 200), gender=\"all\", pclass=3, survival=1)\n",
    "old_c3_lost = selector_customize(titanic_df, age=(65, 200), gender=\"all\", pclass=3, survival=0)\n"
   ]
  },
  {
   "cell_type": "code",
   "execution_count": 131,
   "metadata": {
    "collapsed": true
   },
   "outputs": [],
   "source": [
    "groups_df = pd.DataFrame({\"group\": [\"children\"] * 3 + [\"men\"] * 3 + [\"women\"] * 3 + [\"old\"] * 3, \n",
    "                         \"class\": [1, 2, 3] * 4,\n",
    "                         \"num_aboard\": [len(children_c1_survival) + len(children_c1_lost),\n",
    "                                        len(children_c2_survival) + len(children_c2_lost),\n",
    "                                        len(children_c3_survival) + len(children_c3_lost),\n",
    "                                        len(men_c1_survival) + len(men_c1_lost), \n",
    "                                        len(men_c2_survival) + len(men_c2_lost),\n",
    "                                        len(men_c3_survival) + len(men_c3_lost),\n",
    "                                        len(women_c1_survival) + len(women_c1_lost), \n",
    "                                        len(women_c2_survival) + len(women_c2_lost), \n",
    "                                        len(women_c3_survival) + len(women_c3_lost), \n",
    "                                        len(old_c1_survival) + len(old_c1_lost),\n",
    "                                        len(old_c2_survival) + len(old_c2_lost), \n",
    "                                        len(old_c3_survival) + len(old_c3_lost)],\n",
    "                         \"num_survived\": [len(children_c1_survival), len(children_c2_survival), len(children_c3_survival),\n",
    "                                          len(men_c1_survival), len(men_c2_survival), len(men_c3_survival), \n",
    "                                          len(women_c1_survival), len(women_c2_survival), len(women_c3_survival),\n",
    "                                          len(old_c1_survival), len(old_c2_survival), len(old_c3_survival)],\n",
    "                         \"num_lost\": [len(children_c1_lost), len(children_c2_lost), len(children_c3_lost),\n",
    "                                      len(men_c1_lost), len(men_c2_lost), len(men_c3_lost),\n",
    "                                      len(women_c1_lost), len(women_c2_lost), len(women_c3_lost), \n",
    "                                      len(old_c1_lost), len(old_c2_lost), len(old_c3_lost)]}\n",
    "                       )\n"
   ]
  },
  {
   "cell_type": "code",
   "execution_count": 132,
   "metadata": {
    "collapsed": true
   },
   "outputs": [],
   "source": [
    "groups_df[\"percentage_survival(%)\"] = np.round(groups_df.num_survived / groups_df.num_aboard * 100, 2)"
   ]
  },
  {
   "cell_type": "code",
   "execution_count": 133,
   "metadata": {
    "collapsed": true
   },
   "outputs": [],
   "source": [
    "groups_df[\"percentage_lost(%)\"] = np.round(groups_df.num_lost / groups_df.num_aboard * 100, 2)"
   ]
  },
  {
   "cell_type": "code",
   "execution_count": 134,
   "metadata": {},
   "outputs": [
    {
     "data": {
      "text/html": [
       "<div>\n",
       "<style>\n",
       "    .dataframe thead tr:only-child th {\n",
       "        text-align: right;\n",
       "    }\n",
       "\n",
       "    .dataframe thead th {\n",
       "        text-align: left;\n",
       "    }\n",
       "\n",
       "    .dataframe tbody tr th {\n",
       "        vertical-align: top;\n",
       "    }\n",
       "</style>\n",
       "<table border=\"1\" class=\"dataframe\">\n",
       "  <thead>\n",
       "    <tr style=\"text-align: right;\">\n",
       "      <th></th>\n",
       "      <th>class</th>\n",
       "      <th>group</th>\n",
       "      <th>num_aboard</th>\n",
       "      <th>num_lost</th>\n",
       "      <th>num_survived</th>\n",
       "      <th>percentage_survival(%)</th>\n",
       "      <th>percentage_lost(%)</th>\n",
       "    </tr>\n",
       "  </thead>\n",
       "  <tbody>\n",
       "    <tr>\n",
       "      <th>0</th>\n",
       "      <td>1</td>\n",
       "      <td>children</td>\n",
       "      <td>12</td>\n",
       "      <td>1</td>\n",
       "      <td>11</td>\n",
       "      <td>91.67</td>\n",
       "      <td>8.33</td>\n",
       "    </tr>\n",
       "    <tr>\n",
       "      <th>1</th>\n",
       "      <td>2</td>\n",
       "      <td>children</td>\n",
       "      <td>23</td>\n",
       "      <td>2</td>\n",
       "      <td>21</td>\n",
       "      <td>91.30</td>\n",
       "      <td>8.70</td>\n",
       "    </tr>\n",
       "    <tr>\n",
       "      <th>2</th>\n",
       "      <td>3</td>\n",
       "      <td>children</td>\n",
       "      <td>78</td>\n",
       "      <td>49</td>\n",
       "      <td>29</td>\n",
       "      <td>37.18</td>\n",
       "      <td>62.82</td>\n",
       "    </tr>\n",
       "    <tr>\n",
       "      <th>3</th>\n",
       "      <td>1</td>\n",
       "      <td>men</td>\n",
       "      <td>118</td>\n",
       "      <td>77</td>\n",
       "      <td>41</td>\n",
       "      <td>34.75</td>\n",
       "      <td>65.25</td>\n",
       "    </tr>\n",
       "    <tr>\n",
       "      <th>4</th>\n",
       "      <td>2</td>\n",
       "      <td>men</td>\n",
       "      <td>97</td>\n",
       "      <td>89</td>\n",
       "      <td>8</td>\n",
       "      <td>8.25</td>\n",
       "      <td>91.75</td>\n",
       "    </tr>\n",
       "    <tr>\n",
       "      <th>5</th>\n",
       "      <td>3</td>\n",
       "      <td>men</td>\n",
       "      <td>304</td>\n",
       "      <td>267</td>\n",
       "      <td>37</td>\n",
       "      <td>12.17</td>\n",
       "      <td>87.83</td>\n",
       "    </tr>\n",
       "    <tr>\n",
       "      <th>6</th>\n",
       "      <td>1</td>\n",
       "      <td>women</td>\n",
       "      <td>86</td>\n",
       "      <td>2</td>\n",
       "      <td>84</td>\n",
       "      <td>97.67</td>\n",
       "      <td>2.33</td>\n",
       "    </tr>\n",
       "    <tr>\n",
       "      <th>7</th>\n",
       "      <td>2</td>\n",
       "      <td>women</td>\n",
       "      <td>64</td>\n",
       "      <td>6</td>\n",
       "      <td>58</td>\n",
       "      <td>90.62</td>\n",
       "      <td>9.38</td>\n",
       "    </tr>\n",
       "    <tr>\n",
       "      <th>8</th>\n",
       "      <td>3</td>\n",
       "      <td>women</td>\n",
       "      <td>109</td>\n",
       "      <td>56</td>\n",
       "      <td>53</td>\n",
       "      <td>48.62</td>\n",
       "      <td>51.38</td>\n",
       "    </tr>\n",
       "    <tr>\n",
       "      <th>9</th>\n",
       "      <td>1</td>\n",
       "      <td>old</td>\n",
       "      <td>6</td>\n",
       "      <td>5</td>\n",
       "      <td>1</td>\n",
       "      <td>16.67</td>\n",
       "      <td>83.33</td>\n",
       "    </tr>\n",
       "    <tr>\n",
       "      <th>10</th>\n",
       "      <td>2</td>\n",
       "      <td>old</td>\n",
       "      <td>2</td>\n",
       "      <td>2</td>\n",
       "      <td>0</td>\n",
       "      <td>0.00</td>\n",
       "      <td>100.00</td>\n",
       "    </tr>\n",
       "    <tr>\n",
       "      <th>11</th>\n",
       "      <td>3</td>\n",
       "      <td>old</td>\n",
       "      <td>3</td>\n",
       "      <td>3</td>\n",
       "      <td>0</td>\n",
       "      <td>0.00</td>\n",
       "      <td>100.00</td>\n",
       "    </tr>\n",
       "  </tbody>\n",
       "</table>\n",
       "</div>"
      ],
      "text/plain": [
       "    class     group  num_aboard  num_lost  num_survived  \\\n",
       "0       1  children          12         1            11   \n",
       "1       2  children          23         2            21   \n",
       "2       3  children          78        49            29   \n",
       "3       1       men         118        77            41   \n",
       "4       2       men          97        89             8   \n",
       "5       3       men         304       267            37   \n",
       "6       1     women          86         2            84   \n",
       "7       2     women          64         6            58   \n",
       "8       3     women         109        56            53   \n",
       "9       1       old           6         5             1   \n",
       "10      2       old           2         2             0   \n",
       "11      3       old           3         3             0   \n",
       "\n",
       "    percentage_survival(%)  percentage_lost(%)  \n",
       "0                    91.67                8.33  \n",
       "1                    91.30                8.70  \n",
       "2                    37.18               62.82  \n",
       "3                    34.75               65.25  \n",
       "4                     8.25               91.75  \n",
       "5                    12.17               87.83  \n",
       "6                    97.67                2.33  \n",
       "7                    90.62                9.38  \n",
       "8                    48.62               51.38  \n",
       "9                    16.67               83.33  \n",
       "10                    0.00              100.00  \n",
       "11                    0.00              100.00  "
      ]
     },
     "execution_count": 134,
     "metadata": {},
     "output_type": "execute_result"
    }
   ],
   "source": [
    "groups_df"
   ]
  },
  {
   "cell_type": "markdown",
   "metadata": {},
   "source": [
    "## 4. Conclusion\n",
    "\n",
    "### 4.1 Analysis Result\n",
    "\n",
    "1. Children and women has very high survival percentage, especially in Class 1 and 2.\n",
    "2. Men in Class 1 have higher survival rate than other classes. While children and women in Class 3 has lower survival rate than other classes.\n",
    "3. Old people have very low survival rate.\n",
    "\n",
    "### 4.2 Limitation\n",
    "\n",
    "1. The dataset we get is a sample not the population data. We don't know how the sample was chosen from the actual population of people that were on the Titanic. There could have been some sort of intentional or unintentional bias in how the sample was selected. \n",
    "\n",
    "2. Some missing values probably because of the limitation of data recording technology at that time. Unless we do automatic database for booking fight/boat tickets, people use traditional method to record data.\n",
    "\n",
    "3. Some data missing probably because of protecting some confidental information, such as person's name, survival status. It is hardly to get perfect dataset, but it requires the knowledge of data scientist.\n",
    "\n",
    "## 5. Future Works\n",
    "\n",
    "1. The dataset has a lot of missing values for the `Cabin` column. These values can be helpful if we know the boat structure. `Cabin` maps the location in the boat. When the collision happens, many people in these part of boat do not have time to save themselves. It can be an import and interesting part to analysis.\n",
    "\n",
    "2. `Embarked` data can be interesting if we know much about people's nationality data. Because the Titanic trip starts from Southampton, and pass Cherbourg and Queenstown. Then it leave Queenstown to New York. There are some people exchange in the two stops.\n",
    "\n",
    "3. The data include people's name, we can do a text match with `Parch` and `SibSp` data to find some relationship of those people.\n"
   ]
  }
 ],
 "metadata": {
  "kernelspec": {
   "display_name": "Python 2",
   "language": "python",
   "name": "python2"
  },
  "language_info": {
   "codemirror_mode": {
    "name": "ipython",
    "version": 2
   },
   "file_extension": ".py",
   "mimetype": "text/x-python",
   "name": "python",
   "nbconvert_exporter": "python",
   "pygments_lexer": "ipython2",
   "version": "2.7.13"
  }
 },
 "nbformat": 4,
 "nbformat_minor": 2
}
